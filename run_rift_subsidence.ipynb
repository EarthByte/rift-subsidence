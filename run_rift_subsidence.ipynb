{
 "cells": [
  {
   "cell_type": "markdown",
   "metadata": {},
   "source": [
    "#### Load parameters from a json file and run the model"
   ]
  },
  {
   "cell_type": "code",
   "execution_count": null,
   "metadata": {},
   "outputs": [],
   "source": [
    "import RiftSubsidence as rs\n",
    "\n",
    "#load cfg file\n",
    "rs.read_cfg_file('parameters.json')\n",
    "\n",
    "#run the model\n",
    "rs.run()\n"
   ]
  },
  {
   "cell_type": "markdown",
   "metadata": {},
   "source": [
    "#### Override some default paramters and run the model\n",
    "check available parameters in parameters.json"
   ]
  },
  {
   "cell_type": "code",
   "execution_count": null,
   "metadata": {},
   "outputs": [],
   "source": [
    "import RiftSubsidence as rs\n",
    "\n",
    "#override some default paramters\n",
    "rs.PLABEL = 'my_test'\n",
    "rs.TC = 30000\n",
    "rs.TBEG1 = 160\n",
    "\n",
    "#run the model\n",
    "rs.run()\n"
   ]
  },
  {
   "cell_type": "markdown",
   "metadata": {},
   "source": [
    "#### Run the program in command line\n",
    "\n",
    "Alternatively, you can open a terminal and run `python3 RiftSubsidence.py`. In this way, you need to give the parameters via standard input."
   ]
  },
  {
   "cell_type": "code",
   "execution_count": null,
   "metadata": {},
   "outputs": [],
   "source": [
    "!python3 RiftSubsidence.py parameters.json"
   ]
  },
  {
   "cell_type": "markdown",
   "metadata": {},
   "source": [
    "#### Run the model multiple times"
   ]
  },
  {
   "cell_type": "code",
   "execution_count": null,
   "metadata": {},
   "outputs": [],
   "source": [
    "import RiftSubsidence as rs\n",
    "\n",
    "#load default parameters from the cfg file\n",
    "rs.read_cfg_file('parameters.json')\n",
    "\n",
    "#important!!! \n",
    "#make sure all the lists have the same length\n",
    "PLABELs = ['label_1','label_2','label_3','label_4','label_5'] # results will be saved into different files\n",
    "TCs = [30000, 40000, 50000, 60000, 70000]\n",
    "#TCs = range(30000, 80000, 10000) # alternatively, you can initialize the list with \"range\"\n",
    "TBEG1s = [160, 170, 180, 190, 200]\n",
    "\n",
    "#run the model multiple times\n",
    "for i in range(len(PLABELs)):\n",
    "    #update the parameters each time\n",
    "    rs.PLABEL = PLABELs[i]\n",
    "    rs.TC = TCs[i]\n",
    "    rs.TBEG1 = TBEG1s[i]\n",
    "    rs.run()\n"
   ]
  },
  {
   "cell_type": "code",
   "execution_count": null,
   "metadata": {},
   "outputs": [],
   "source": [
    "import RiftSubsidence as rs\n",
    "\n",
    "#prepare a few configuration files\n",
    "cfg_files=['parameters.json',\n",
    "           'parameters.json',\n",
    "           'parameters.json',\n",
    "           'parameters.json',\n",
    "           'parameters.json',]\n",
    "\n",
    "#run model for each configuration file\n",
    "for cfg in cfg_files:\n",
    "    #load parameters from the cfg file\n",
    "    rs.read_cfg_file(cfg)\n",
    "    rs.run()\n"
   ]
  },
  {
   "cell_type": "raw",
   "metadata": {},
   "source": []
  },
  {
   "cell_type": "code",
   "execution_count": null,
   "metadata": {},
   "outputs": [],
   "source": []
  }
 ],
 "metadata": {
  "kernelspec": {
   "display_name": "Python 3",
   "language": "python",
   "name": "python3"
  },
  "language_info": {
   "codemirror_mode": {
    "name": "ipython",
    "version": 3
   },
   "file_extension": ".py",
   "mimetype": "text/x-python",
   "name": "python",
   "nbconvert_exporter": "python",
   "pygments_lexer": "ipython3",
   "version": "3.8.6"
  }
 },
 "nbformat": 4,
 "nbformat_minor": 2
}
